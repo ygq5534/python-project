{
 "cells": [
  {
   "cell_type": "code",
   "execution_count": 58,
   "metadata": {},
   "outputs": [],
   "source": [
    "from PIL import Image\n",
    "import base64"
   ]
  },
  {
   "cell_type": "code",
   "execution_count": 68,
   "metadata": {},
   "outputs": [
    {
     "name": "stdout",
     "output_type": "stream",
     "text": [
      "(1631, 1080)\n"
     ]
    }
   ],
   "source": [
    "bmap = Image.open('basket.jpg')\n",
    "print(bmap.size)\n",
    "bitmap = bmap.tobytes()"
   ]
  },
  {
   "cell_type": "code",
   "execution_count": 98,
   "metadata": {},
   "outputs": [],
   "source": [
    "encrypted = []\n",
    "key = [0,0]\n",
    "for index,byte in enumerate(bitmap):\n",
    "    encrypted.append(byte^key[index % 2])\n"
   ]
  },
  {
   "cell_type": "code",
   "execution_count": 99,
   "metadata": {},
   "outputs": [],
   "source": [
    "strs_baskt = base64.standard_b64encode(bytes(encrypted))"
   ]
  },
  {
   "cell_type": "code",
   "execution_count": 100,
   "metadata": {},
   "outputs": [],
   "source": [
    "strs = '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'"
   ]
  },
  {
   "cell_type": "code",
   "execution_count": 86,
   "metadata": {},
   "outputs": [
    {
     "data": {
      "text/plain": [
       "b'\\xbc\\xec\\xba\\xec\\xbd\\xeb\\xbd\\xeb\\xba\\xeb\\xba\\xec\\xbd\\xeb\\xbd\\xed\\xbd\\xeb\\xbd\\xea\\xba\\xec\\xbd\\xea\\xbd\\xec\\xba\\xec\\xbd\\xeb\\xbd\\xec\\xbb\\xed\\xba\\xeb\\xba\\xec\\xba\\xeb\\xba\\xea\\xba\\xec\\xba\\xeb\\xbc\\xeb\\xbd\\xec\\xbd\\xed\\xbd\\xea\\xba\\xec\\xba\\xea\\xbc\\xec\\xbb\\xeb\\xbd\\xeb\\xba\\xec\\xbb\\xeb\\xbc\\xec\\xbd\\xed\\xbb\\xec\\xbd\\xea\\xbd\\xec\\xbd\\xec\\xbb\\xec\\xbc\\xeb\\xba\\xec\\xba\\xea\\xba\\xed\\xba\\xeb\\xbd\\xec\\xbb\\xed\\xba\\xeb\\xbb\\xed\\xbd\\xec\\xbd\\xec\\xba\\xed\\xbd\\xec\\xbd\\xea\\xba\\xec\\xbd\\xea\\xbd\\xeb\\xba\\xec\\xba\\xec\\xba\\xec\\xba\\xeb\\xbd\\xeb\\xbc\\xec\\xbb\\xed\\xba\\xec\\xbd\\xeb\\xbd\\xea\\xbd\\xec\\xba\\xeb\\xbd\\xeb\\xba\\xed\\xbd\\xea\\xba\\xec\\xbd\\xec\\xbd\\xeb\\xbd\\xeb\\xbd\\xea\\xba\\xec\\xbd\\xeb\\xba\\xec\\xbd\\xeb\\xbb\\xeb\\xba\\xec\\xbb\\xec\\xbd\\xeb\\xba\\xec\\xbb\\xea\\xbd\\xeb\\xba\\xec\\xbb\\xea\\xbc\\xea\\xbd\\xec\\xba\\xed\\xba\\xed\\xbd\\xeb\\xba\\xed\\xba\\xec\\xbb\\xeb\\xba\\xec\\xba\\xec\\xbb\\xed\\xbd\\xeb\\xba\\xeb\\xbd\\xeb\\xba\\xeb\\xbd\\xeb\\xba\\xeb\\xba\\xeb\\xbd\\xed\\xba\\xeb\\xbb\\xec\\xbf\\xe9\\xbf\\xe8\\xbe\\xe8\\xba\\xee\\xba\\xea\\xbd\\xed\\xbb\\xec\\xbd\\xec\\xba\\xeb\\xbc\\xea\\xbd\\xed\\xba\\xeb\\xba\\xeb\\xbd\\xec\\xbd\\xec\\xbd\\xeb\\xba\\xec\\xba\\xec\\xba\\xea\\xbc\\xec\\xba\\xec\\xbd\\xec\\xba\\xec\\xbd\\xeb\\xba\\xed\\xba\\xeb\\xba\\xed\\xbc\\xe8\\xbc\\xe9\\xbe\\xe8\\xbe\\xe8\\xbe\\xe8\\xbe\\xe8\\xbe\\xe8\\xbe\\xe8\\xbe\\xe8\\xbe\\xe9\\xbd\\xeb\\xbd\\xeb\\xbc\\xec\\xbb\\xeb\\xbd\\xeb\\xbc\\xec\\xbb\\xed\\xbb\\xeb\\xbd\\xeb\\xbb\\xeb\\xbc\\xec\\xba\\xec\\xbb\\xeb\\xba\\xeb\\xbd\\xeb\\xbd\\xec\\xbd\\xec\\xbd\\xeb\\xba\\xed\\xbb\\xed\\xba\\xec\\xba\\xe8\\xbe\\xe8\\xbe\\xe8\\xbe\\xe1\\xa7\\xf3\\x92\\xbe\\xc9\\x99\\xd0\\x9c\\xc3\\x82\\xea\\xa9\\xa0\\xe8\\xbe\\xe8\\xbe\\xec\\xba\\xec\\xba\\xeb\\xbd\\xec\\xbb\\xec\\xbd\\xed\\xbd\\xee\\xba\\xec\\xbc\\xeb\\xba\\xec\\xbd\\xec\\xba\\xeb\\xbb\\xec\\xba\\xeb\\xba\\xeb\\xbd\\xec\\xba\\xeb\\xbd\\xeb\\xbb\\xec\\xb8\\xe8\\xbe\\xe8\\xf9\\xb7\\xe7\\x83.s\\x02%l\\x0cO\\x0fd?h\\x02F\\x00\\x08\\x91\\xe6\\xc6\\xbe\\xe8\\xbd\\xee\\xbd\\xec\\xbd\\xeb\\xbb\\xed\\xbb\\xeb\\xba\\xec\\xba\\xeb\\xba\\xec\\xbd\\xec\\xba\\xec\\xbb\\xeb\\xbd\\xed\\xbd\\xec\\xba\\xec\\xba\\xe9\\xbc\\xec\\xbb\\xec\\xbd\\xe8\\xbe\\xe8\\x8aY@\\x15E\\x04W4}*{T\\x11M$GtT\\x1fH#Fu.)\\xce\\xbe\\xe9\\xbb\\xec\\xba\\xec\\xba\\xeb\\xbd\\xec\\xba\\xed\\xba\\xec\\xba\\xec\\xba\\xec\\xba\\xec\\xba\\xed\\xba\\xeb\\xbd\\xed\\xbd\\xed\\xba\\xea\\xbd\\xed\\xbb\\xec\\xbd\\xe8\\xbb\\x8bG\\x17W:s)\\x0bX\\x17F\\x19Y\\x04H3{\\x1dL4l/d3u\\x00M\\x8c\\xe8\\xbe\\xec\\xbd\\xec\\xbb\\xec\\xbc\\xed\\xbb\\xeb\\xbd\\xeb\\xbc\\xec\\xba\\xec\\xba\\xed\\xbb\\xec\\xba\\xeb\\xba\\xec\\xba\\xec\\xbd\\xea\\xbb\\xec\\xba\\xe8\\xbf\\xc0\\'\\x1eL?h%\\x05G\\x1fu#E\\x10q\\x18A2o2y0`=m:l\\xc7k#\\xd5\\xbe\\xe8\\xbd\\xeb\\xba\\xec\\xba\\xec\\xbb\\xeb\\xbd\\xec\\xba\\xec\\xbd\\xed\\xbd\\xee\\xbb\\xeb\\xba\\xec\\xbb\\xeb\\xbb\\xec\\xba\\xec\\xbd\\xeb\\xbc\\xec\\xa9vB\\x04q\"{W\\x16p+u!u\\x1ct3g8\\x95<l5i\\xc5o6\\x93\\xc5\\x92\\xc6h\\x81\\xe8\\xbe\\xed\\xbb\\xed\\xbb\\xec\\xbd\\xed\\xba\\xec\\xba\\xeb\\xbd\\xed\\xbb\\xed\\xbb\\xec\\xba\\xed\\xbd\\xeb\\xba\\xec\\xbd\\xea\\xba\\xec\\xbe\\xfa\\xfd$K7h+\\x17N\\x11u+\\x7f+d4c?i/\\x7f6j5\\x95\\xcb\\x9a\\xc2`\\xc0\\x99\\xd1\\x8c\\xcf\\xc9\\xbe\\xec\\xbb\\xed\\xbb\\xec\\xbd\\xec\\xba\\xed\\xbd\\xeb\\xbc\\xed\\xb8\\xec\\xba\\xeb\\xba\\xed\\xba\\xeb\\xbd\\xec\\xba\\xec\\xbd\\xed\\xbf\\xff\\xc5!`>\\x04w\\x1c@\\x0eD\\x1fw,c\\xc1\\x86\\xd4\\x90;n\\xc0\\x9a\\xcdk<\\x93\\xc9j:\\x85\\xd9\\x8f\\xdb\\xb7\\xaf\\xe8\\xba\\xec\\xba\\xeb\\xba\\xec\\xba\\xec\\xba\\xed\\xbd\\xed\\xba\\xee\\xbb\\xec\\xbd\\xec\\xba\\xeb\\xbb\\xeb\\xbb\\xeb\\xbd\\xeb\\xbe\\xf0\\xdbVeP\\x1cN\\x0eY\\x0eC\\x1c}2a\\xc6\\x9f\\xc4\\x97<\\x96\\xc9\\x9c\\xd0\\x85\\xd6\\x8f\\xd5\\x917k\\xd6\\xb5\\xed\\x8f\\xeb\\xe4\\xbe\\xeb\\xb8\\xed\\xba\\xeb\\xba\\xec\\xba\\xed\\xbd\\xec\\xbb\\xed\\xbb\\xec\\xbd\\xeb\\xbb\\xec\\xbd\\xec\\xbd\\xeb\\xba\\xed\\xbd\\xe8\\x95)\\x06Z|.y(\\t@+a;n\\xcd\\x86>\\x95>i\\xc1m\\xc4\\x80\\xda\\xb4\\xdb\\x98\\xe2\\x88\\xcf\\x8a\\xf0\\xbb\\xd3\\xaa\\xbe\\xe8\\xba\\xec\\xba\\xec\\xba\\xeb\\xbd\\xeb\\xba\\xec\\xbb\\xed\\xbb\\xec\\xba\\xec\\xba\\xec\\xba\\xec\\xba\\xec\\xba\\xed\\xbd\\xe8\\xc5?\\t/o;q&\\x02@.k8\\x9e\\xd6\\x846a7m\\xc2\\x8e\\xe5\\x9a\\xcb\\x8a\\xe7\\xa6\\xfa\\xbd\\xdd\\x8a\\xe1\\xb9\\xe6\\x8f\\xa2\\xe8\\xba\\xec\\xb8\\xee\\xba\\xeb\\xbd\\xec\\xba\\xeb\\xbb\\xee\\xb8\\xed\\xba\\xec\\xbd\\xed\\xba\\xec\\xbb\\xed\\xbb\\xed\\xbe\\xdac(r\\'t9s \\x07w7i\\xcc\\xb5\\xd0\\x977l\\xc5\\x8e\\xef\\xbd\\xd7\\x9e\\xdc\\xbb\\xf5\\xa0\\xf2\\xa1\\xfa\\xaf\\xdc\\xb4\\xf7\\x8e\\x82\\xe8\\xbc\\xee\\xb8\\xec\\xbb\\xec\\xba\\xec\\xbd\\xeb\\xbb\\xee\\xbb\\xec\\xba\\xec\\xbb\\xeb\\xba\\xeb\\xba\\xee\\xbd\\xe9\\xbe\\x9a_Tr#r#~E%y4\\x9c\\xe1\\x8b\\xcab3e\\xc4\\xb0\\xd2\\x9b\\xe9\\xa2\\xf3\\xbe\\xf2\\xae\\xf8\\xad\\xf0\\xa4\\xfb\\xb8\\xf9\\xb0\\xef\\xfe\\xbe\\xee\\xbb\\xec\\xbd\\xec\\xbd\\xed\\xba\\xec\\xbb\\xee\\xbb\\xec\\xbb\\xeb\\xbd\\xec\\xba\\xee\\xbc\\xec\\xbb\\xe8\\xbessWr&o!\\x0e\\x7f\"H5\\x88\\xe3\\x9e\\xc5~\\xc1d.\\x9f\\xd4\\xdc\\x8a\\xa4\\xe3\\xb0\\xfc\\xa4\\xee\\xac\\x8b\\xa8\\xfc\\xa1\\xf6\\xbd\\xe0\\xd8\\xba\\xea\\xbb\\xed\\xba\\xec\\xbd\\xea\\xbd\\xed\\xbb\\xef\\xbb\\xec\\xba\\xec\\xbd\\xed\\xb8\\xec\\xbc\\xec\\xbb\\xe8\\x9d:z/w\\'n\"\\x10u\\x16H\\xca\\x81\\xd7\\x8c\\xc3d=\\x96\\xc0\\x90\\xf4\\xd4\\xe0\\x8a\\xdc\\xa1\\xe8\\xb6\\xf1\\xa2\\x83\\xd1\\xec\\xa4\\xf4\\xbe\\xde\\xa0\\xad\\xe8\\xba\\xee\\xba\\xed\\xba\\xec\\xbd\\xec\\xb8\\xee\\xba\\xeb\\xbc\\xed\\xba\\xed\\xba\\xef\\xb6\\xe8\\xbe\\xe8\\xe9\\x04p/\\x7fUzP u\\x16y\\xcf\\x99\\xda\\xbf\\xc0g\\'\\x86\\xdb\\xb8\\xea\\x8f\\xe6\\x88\\xda\\xb5\\xef\\xa4\\x80\\xd3\\x80\\xd6\\xed\\xa2\\x80\\xb9\\xde\\xb4\\xa2\\xe8\\xbb\\xec\\xbd\\xeb\\xba\\xed\\xba\\xec\\xb8\\xef\\xbb\\xec\\xba\\xec\\xba\\xeb\\xbd\\xef\\xb7\\xe8\\xbe\\xe96\\x07n+s]\\nO\\x1cB\\x06\\x96\\xd9\\x99\\xda\\x8d6v}\\x7f\\xd7\\xb5\\xe1\\xa3\\xdf\\x98\\xe9\\xa9\\x80\\xc4\\x8d\\xa9\\xfc\\xa8\\xfc\\xaf\\xfd\\xa6\\xe0\\x8d\\x98\\xe8\\xba\\xed\\xbc\\xeb\\xbb\\xec\\xba\\xec\\xb8\\xee\\xbb\\xec\\xbd\\xec\\xba\\xec\\xbd\\xeb\\xa7\\xa1\\xe8\\xd3\\x18$\\x04Vr\\'~-\\x0eF\\x1b\\x9c\\xdc\\x8d\\xeb\\xb8\\xdf\\x8b\\xd5\\xb8\\x90\\xd4\\x84\\xda\\xee\\xa6\\xfe\\xa8\\x8f\\xd0\\xff\\xa2\\xf9\\xd7\\xfa\\xd5\\xf7\\xbf\\xde\\x8c\\x93\\xe8\\xba\\xec\\xbb\\xed\\xbb\\xec\\xbd\\xeb\\xb9\\xef\\xbb\\xed\\xbd\\xec\\xba\\xed\\xbe\\xef\\xad\\x88/g\\x0eQ\\x00t\\xc4\\x82\\x8a\\xf2\\xac\\xe6\\xb3\\xe2\\xbd\\xe8\\xbe\\xe8\\xbe\\xe8\\xbe\\xe8\\xbe\\xe8\\xbf\\xe4\\xb3\\xe1\\xa7\\xd9\\x91\\xa8\\xfe\\xd2\\x84\\xad\\xfa\\xd4\\xf5\\xbf\\xd8\\x84\\x92\\xe8\\xbb\\xed\\xb8\\xec\\xba\\xec\\xbd\\xec\\xbb\\xee\\xb8\\xed\\xba\\xec\\xbd\\xeb\\xbd\\xec\\xbe\\xd8\\xc1n\\x16e\\x8e\\xcb\\xa4\\xfe\\xbf\\xe8\\xab\\xe6\\xb4\\xf8\\xac\\xf9\\xa8\\xcd\\x91\\xc5\\xf6\\xae\\x97\\xc1\\x99\\xc8\\xa4\\xe4\\xbe\\xe0\\xac\\xf3\\x85\\xd2\\x86\\xaf\\x80\\xa3\\xf5\\xa7\\xd5h\\x87\\xe8\\xba\\xee\\xba\\xed\\xbb\\xec\\xbc\\xed\\xb8\\xee\\xba\\xeb\\xba\\xec\\xba\\xee\\xbe\\xe8\\xbe\\xe3\\xfb\\x83\\xee\\xc8\\xdcd\\xe8\\xc8\\xb2\\xb3\\'\\x87\\xf7\\xa2\\xda\\xb5\\xd0v0k4\\x8a\\x87\\xc7\\x99\\xc9\\x9d\\xf0\\x89\\x91\\xd1\\xcf\\xa6\\xc7\\xff\\xd6\\x81\\xa9\\xf9\\xb0\\xd9`\\x89\\xe8\\xbd\\xed\\xbd\\xed\\xba\\xec\\xbd\\xec\\xb9\\xee\\xbb\\xeb\\xbc\\xed\\xbb\\xec\\xb3\\xf3\\x9a\\xce\\x9c\\xa8\\xb1\\xf2\\x03q\\xc9\\xab\\xb3\\xcd\\xf5\\xa2\\x8e\\xd9\\xd4l\\xc7\\x9c\\xcd\\x89\\x91\\xf6\\x9b\\xca\\xa0\\xc9\\x9e\\xf3\\xf8\\xd9\\xd3\\x91\\x9f\\xf5\\x86\\xab\\x80\\xd0\\xf9\\xb8\\xdf\\x9e\\x9e\\xe8\\xb9\\xec\\xba\\xed\\xba\\xeb\\xba\\xed\\xb9\\xef\\xb8\\xed\\xbb\\xee\\xbf\\xee\\x9b\\xde\\x9a\\xfe\\x9e\\xe6\\xb6\\xfa\\xa9\\xf1\\xf2\\x99\\x92\\xef\\xab\\xf0\\x90\\xd6\\xe4|\\xc1\\x8c\\xdc\\xc1\\xab\\xf5\\xa0\\xf6\\x9d\\xc9\\xa1\\xf6\\xa3\\xe0\\xb1\\xba\\xfb\\xc0\\x97\\xd0\\x84\\xd7\\xfb\\xa9\\xdd\\x80\\xb1\\xe8\\xb8\\xed\\xba\\xee\\xba\\xec\\xbb\\xed\\xbb\\xee\\xba\\xed\\xbb\\xed\\xbd\\xeb\\xaa\\xf3\\xb1\\xe3\\xa6\\xe7\\xb7\\xf4\\xb5\\xe5\\xa4\\xd7\\x83\\xe7\\x98\\xf3\\xaa\\xe7\\xa0\\x926\\xa0\\x96\\xf3\\x9f\\xf7\\x94\\xde\\x91\\xc0\\xa3\\xf5\\x9c\\xff\\xa7\\x88\\xf8\\xc6\\x94\\xc6\\x8d\\xaa\\x81\\xd6\\xcf\\xb9\\xbc\\xeb\\xbb\\xed\\xba\\xed\\xba\\xed\\xbb\\xec\\xb8\\xed\\xbb\\xed\\xba\\xeb\\xbd\\xe9\\xb4\\xe7\\xb7\\xe3\\xa5\\xe2\\xdb\\xb6\\xa9\\xc7\\xe6f\\xf0\\xc5*n\\x80\\xe5\\xa8\\xd8\\x8f\\xf5\\xa7\\xc9\\xa1\\xcf\\xf9\\xdf\\x94\\xc0\\xa3\\xf1\\xa3\\xe5\\xfeO\\xfd\\xc2\\x8c\\xd9\\x8d\\xd4\\xff\\xa2\\xd1\\xca\\xbe\\xef\\xb9\\xef\\xbb\\xed\\xbb\\xec\\xba\\xec\\xb8\\xee\\xb8\\xeb\\xba\\xed\\xbd\\xeb\\xbc\\xe6\\xb3\\xfc\\xb0\\xcd}\\xb5\\xa3\\x8e\\x04\\x17\\xdd\\xbdof\\xc0c\\xf6\\xfe\\xa6\\xf5\\x9e\\xf7\\xa7\\xf7\\x86\\xdc\\x95\\xce\\xa4\\xfc\\xa4\\xe1\\xa9`\\xeb\\xc1\\x83\\xdb\\x8f\\xdd\\x82\\xbe\\xdc\\xe6\\xbe\\xed\\xbb\\xed\\xba\\xec\\xba\\xeb\\xba\\xed\\xb8\\xee\\xbb\\xeb\\xba\\xed\\xbb\\xec\\xbe\\xe4\\xb0\\xe7\\xbamm\\x8e\\x81\\xba=j\\xd5O&u\\nM\\xee\\xff\\xa2\\xc8\\x9e\\xf2\\x9e\\xa8\\xed\\xb9\\x8c\\xcd\\xa4\\xf6\\xa0\\xef\\xb4\\x9a\\xdf\\xc6\\x82\\xd0\\x91\\xc3\\x97\\xa1\\x95\\xe8\\xba\\xed\\xbb\\xed\\xbd\\xed\\xba\\xeb\\xbb\\xec\\xb8\\xee\\xb8\\xed\\xbd\\xec\\xba\\xec\\xbc\\xec\\x9f\\xee\\x9c\\x051\\xd7\\xe8\\xa5\\x99\\xc30X,a\\xc6\\x8b\\xf8\\xc8\\xa5\\xc8\\xa2\\xfb\\x82\\x84\\xd7\\xbf\\x8d\\xc8\\x9d\\xc2\\xb5\\xe8\\xf9c\\xed\\xda\\x8a\\xd7\\xf8\\xac\\xff\\xa6\\xaf\\xe8\\xb9\\xee\\xb9\\xed\\xbd\\xec\\xbd\\xed\\xba\\xed\\xb8\\xed\\xb8\\xee\\xbd\\xea\\xba\\xee\\xba\\xe8\\xa6\\xcc\\xd4>\\xdf\\x90\\x06k\\xebo\\xc6\\x98\\xe6\\xdd\\x8b\\xda\\x9d\\xf3\\xa4\\xf7\\x93\\xc1\\xff\\x88\\xd7\\xad\\x94\\xcd\\x97\\xe5\\xae\\xae\\xdf\\x9b\\xf6\\xca\\x90\\xd7\\xf8\\xb8\\xdf\\x92\\x96\\xe8\\xbe\\xe0\\xb8\\xed\\xb8\\xec\\xba\\xec\\xbd\\xed\\xb8\\xee\\xba\\xec\\xbb\\xec\\xbd\\xed\\xb8\\xed\\xbe\\xef\\x97\\x93\\xe7\\x8e\\xe4\\xa2\\x99fAS6\\x8d\\xf6\\xd1\\x87\\xdb\\x99\\xc7\\xfa\\xbb\\xdc\\xb4\\xe9\\xdf\\x99\\xc2\\xa3\\xee\\xec\\xae\\x95\\x9f\\x94\\xff\\x9c\\xdb\\x82\\xaa\\xf5\\xb5\\x93\\xfe\\xaa\\xe8\\xba\\xef\\xb9\\xec\\xbb\\xec\\xba\\xed\\xb8\\xef\\xbb\\xec\\xbb\\xec\\xba\\xec\\xbb\\xef\\xbb\\xe8\\xbe\\xd3\\xc7\\xf1\\xb1\\xf7\\x99\\x9fk](j?z4\\x81\\xfc\\xd5\\xff\\xb2\\xe1\\xa4\\xfe\\xa0\\x8a\\xc0\\xab\\xfb\\x92\\xdc\\xd8\\xae\\xb1\\xfc\\xa4\\xce\\x90\\xc7\\x8b\\xa8\\xef\\x92\\xdf\\xed\\xbf\\xee\\xbb\\xee\\xbb\\xec\\xbd\\xed\\xb8\\xed\\xba\\xec\\xba\\xec\\xbb\\xed\\xbb\\xec\\xbb\\xee\\xbe\\xa5Qo\\xc4o&M\\x0fC2\\x98\\xcb~?\\xbe\\xfe\\xdf\\xfc\\x83\\xf0\\xd6\\xf9\\xa8\\x8f\\xca\\xa8\\xfb\\x8a\\x9f\\x87\\xe3\\xae\\xf9\\xb7\\xe6\\x96\\xd6\\xf3\\xbd\\xe4\\x88\\xc0\\xc8\\xbe\\xef\\xb8\\xed\\xbb\\xed\\xba\\xec\\xb8\\xec\\xba\\xec\\xba\\xec\\xbc\\xed\\xbb\\xec\\xbb\\xec\\xbe\\xa5C5t=\\x01@\\x07C3\\x9e\\xc1c\\xd2\\xa2\\x87\\xc2\\xf6\\xbd\\x82\\xd7\\xfc\\xd2\\x8a\\xf5\\x9c\\xd4\\xec\\xd9\\xb7\\xe4\\xbb\\xe9\\xab\\xc7\\xfa\\xa5\\xee\\xb8\\xec\\xb0>\\xab\\xbe\\xec\\xbb\\xec\\xba\\xed\\xba\\xec\\xb9\\xed\\xba\\xec\\xbb\\xed\\xbd\\xec\\xbb\\xed\\xba\\xeb\\xbe\\xa7]L*I\\x0cU\\rG(j\\xc1\\x9a\\xe7\\xab\\x8a\\xdf\\x80\\xdf\\xf9\\xd3\\xfb\\xa1\\x8a\\xca\\x96\\xd2\\x98\\xe4\\xba\\xeb\\x9c\\xb6\\xc6\\xaf\\x84\\xa9\\xf9\\xbc\\xe5\\xb1\\xd4\\x9e\\xad\\xe8\\xbb\\xed\\xb8\\xed\\xba\\xed\\xb9\\xee\\xb8\\xee\\xba\\xec\\xb8\\xee\\xbb\\xed\\xba\\xec\\xbe\\xd6h\\xbc\\xfb\\xa8\\xedl\\x1cY\\x1fo\\xc3\\x8e\\xef\\xd5\\x8e\\xd2\\xf8\\xae\\xf5\\xa3\\xf6\\xdd\\x90\\xcf\\x98\\xf0\\xb8\\xe8\\xa3\\x8c+\\x96\\xf5\\xaf\\xe5\\xbc\\xee\\xbe\\xe4\\x88\\xd4a\\x86\\xe8\\xba\\xed\\xbb\\xec\\xba\\xed\\xb8\\xed\\xba\\xed\\xb8\\xeb\\xbb\\xed\\xbb\\xed\\xb8\\xec\\xbe\\xd8|j.\\x82\\x81\\x88(^\\x11l\\xcc\\x89\\xf7\\xdd\\x8f\\xab\\xf5\\xa9\\x87\\xa3\\xf6\\xdc\\x90\\xc0\\xa5\\xec\\xac\\xb4#k\\xe5\\xb1\\xd3\\x9e\\xe2\\xaf\\xef\\x89\\xd6\\xb7\\xf3\\x89\\xfc\\xe8\\xbe\\xe8\\xbb\\xeb\\xb8\\xee\\xb9\\xec\\xbd\\xed\\xb8\\xed\\xbb\\xec\\xbb\\xed\\xb8\\xeb\\xbe\\xd6\\x04d\\xd5\\xa4\\xd9s\\t-\\x12n\\xd0\\xbf\\xfa\\xda\\x8c\\xa1\\xf5\\xd2\\x8a\\xd2\\x82\\xd3\\x9a\\xe4\\xae\\xac,g\\xeb\\xb76\\x95\\xd2\\xb2\\xea\\x81\\xd2\\xbd\\xff\\xd0\\x85\\xb2\\xe3\\xe5\\xa9\\xe3\\xbe\\xea\\xbb\\xed\\xb9\\xed\\xba\\xed\\xbd\\xec\\xb8\\xec\\xb8\\xed\\xbb\\xee\\xbe\\xfa\\x16Z\\xc8\\x98 Z\\x00Y\\x1aj\\xdc\\xa4\\xfc\\xa3\\xfc\\xae\\xf2\\xab\\x8a\\xdd\\x8c\\xf1\\xa5\\xa30d\\xe3\\xb9\\xccb=\\x99\\xd8\\x9c>\\x89\\xfc\\xdc\\x85\\xbb\\xe6\\xa3\\xe8\\x88\\xc2\\x99\\xa6\\xe8\\xbf\\xee\\xb9\\xed\\xb8\\xed\\xbb\\xec\\xbb\\xed\\xbb\\xee\\xb8\\xeb\\xbe\\xe4)\\x1ayF\\r_\\x04(\\x03r\\xdb\\xa5\\xef\\xb5\\xf4\\xa0\\x80\\xdc\\x94\\xfc\\xad\\xaa/\\\\\\xc5\\xb4\\xcc\\x90\\xc5\\x97>n2\\x8f\\x8a\\xf6\\x83\\xbe\\xde\\xb3\\xea\\xb5\\xe0\\x81\\xd4k:\\xc3\\xbe\\xe8\\xb8\\xee\\xba\\xeb\\xbb\\xed\\xba\\xec\\xbb\\xee\\xbb\\xe8\\xbe\\xbcl1\\x16N\\x08Ut8}B\\xc4\\xb7\\xd0\\xb6\\xe6\\xa6\\x8b\\xff\\xb4\\xc6\\xc1G1\\x8f\\xd0e:\\x8d\\xc8b\"e\\xf3\\xff\\xa8\\xd9\\x81\\xa0\\xf7\\xad\\xe0\\x82\\xe6\\xbe\\xea\\xbf\\xd1g\\xfa\\xe8\\xb8\\xed\\xbd\\xec\\xbb\\xec\\xba\\xeb\\xb8\\xed\\xba\\xec\\xbe\\xa9R,-~\\x1a!s-\\x05|.b<\\x9c\\xeb\\xc7\\xaa\\xfc\\xdcN1\\x9a\\xcf\\x974`\\xc6\\x8d4p\\xdb\\xcb\\xaa\\xc3\\xf7\\x82\\xc1n\\xca\\x9a8k;d\\xc5\\x84\\xe1\\x8b6\\xa6\\xbb\\xed\\xbb\\xed\\xbb\\xed\\xb8\\xee\\xbb\\xef\\xb8\\xed\\xbe\\xc6NE;{\\x082~\\'\\x13`\\x17f\\xcd\\x8a\\xff\\xc9\\x94\\x99&\\x81\\xcco=i>\\x9c\\xcdc4\\xb9\\xa3\\xcb\\xd6r\\x02&e:\\nX\\x13B\\x14O\\x16J*\\x92\\xd7\\x9e\\xb9\\xee\\xbb\\xed\\xbb\\xed\\xba\\xed\\xb8\\xee\\xb8\\xee\\xbe\\xc7`G(Gf?\\x00_,w\\'\\x87\\xd4\\xbc\\x82\\xa6\\xd4\\x99\\xd0\\x9f:n\\xc3\\x9a\\xd3\\x92*\\x8a\\x9c\\xc1\\xf5{j7d,\\x04,\\td\\'u$|.c7m>\\x9e\\xb8\\xeb\\xbb\\xec\\xba\\xed\\xbb\\xed\\xb8\\xed\\xbb\\xec\\xbe\\xc1mT +p/\\x04q%N\\xc4\\x87\\xda\\xa6\\xf5\\x8f\\xdb\\x8c\\xcf\\x91\\xcb\\x98\\xd4\\x81\\xcb\\x8e\\x90\\xf2\\x81\\x9f\\x1b:a=h=u,\\x19\\x936K\\x19u%x8l=k\\xb8\\xed\\xba\\xec\\xbd\\xed\\xbb\\xed\\xba\\xed\\xb8\\xed\\xbe\\xe7\\x10W W~^\\x1a{&`\\xdb\\xba\\xf4\\xbd\\xe2\\xb6\\xdd\\x80\\xd1\\x82\\xdf\\x88\\xe5\\xbe\\xe2\\xbc\\xe4AsVp\\rd=g0f8*\\x924\\x7f\\x14C\\'z\\'s+o\\xb9\\xee\\xba\\xec\\xbb\\xec\\xbd\\xec\\xbb\\xed\\xbb\\xee\\xbe\\xed\\xc3\\x0c\\x1dA\\x04}4q\\xc5\\xb7\\xf7\\xa2\\xe9\\x8a\\xd7\\x8e\\xda\\x81\\xd5\\x80\\xe4\\xae\\xda`!$[8~Fg4i:h1\\\\4&\\x915~\\'D!\\x96\\xc4i3y\\xb8\\xef\\xbb\\xeb\\xbb\\xed\\xba\\xec\\xb8\\xee\\xba\\xeb\\xba\\xe8\\xa0-rt.i1{\\xd4\\xa6\\xe8\\x8d\\xd5\\x86\\xd0\\x83\\xd7\\x81\\xd2\\xb4\\xfd\\x9a~4e |/\\x1aTa;i8t&c.4l6r\\x1es\\x1bp\\xc2\\x86\\xdb\\x8d\\xbb\\xee\\xba\\xeb\\xbb\\xed\\xba\\xec\\xba\\xee\\xba\\xee\\xbb\\xea\\xbe\\xc2\\xe9\\xb0?r#\\x94\\xe3\\x8c\\xd9\\x98\\xcc\\x86\\xd7\\x80\\xd6\\x85\\xe2\\xa877j&q%gR\\x0c1m&l<wUl]8g/s\\x19I,I\\'`<\\x98\\xb8\\xed\\xba\\xec\\xba\\xed\\xb8\\xed\\xbb\\xee\\xbb\\xeb\\xb8\\xee\\xba\\xe8\\xbe\\xe0\\xf4\\x9f\\xd9\\x8c\\xda\\x98\\xcd\\x87\\xd2\\x82\\xd6\\x80\\xd3\\x8c\\xfegX:i?q2p+h2l<i?mW~L-u!J\\x1dB+f%c={\\xb8\\xee\\xbb\\xed\\xbb\\xee\\xbb\\xec\\xbb\\xee\\xbb\\xed\\xbb\\xed\\xb9\\xee\\xbe\\xe8\\xbd\\xe2\\x9a\\x9b\\xd6\\xb5\\xd4\\x84\\xd8\\x8c\\xdd\\x8e\\xda\\xd7<\\x0el6\\\\<e0j6j$r:t x,\\x17{\\x1cv(g-\\x7f1n0a\\xc8\\x95\\xb9\\xed\\xbb\\xec\\xba\\xee\\xba\\xee\\xba\\xed\\xb8\\xec\\xbd\\xed\\xb8\\xef\\xb9\\xee\\xbe\\xe8\\xffn\\xe2\\xb3\\xdd\\x99\\xd3\\x80\\xd7\\x85\\xfb\\x85[9d\\x0cc1e\\x0chRt#z-})\\x08/\\x18p b;j=\\x94\\xc1\\x93\\xc3\\x94\\xce\\x87\\xb8\\xed\\xba\\xed\\xba\\xed\\xba\\xee\\xbb\\xec\\xb8\\xed\\xbd\\xee\\xb8\\xee\\xbb\\xed\\xba\\xe8\\x97k\\xd8\\x82\\xd7\\x9d\\xc7\\x9e\\xc9\\xb3\\xe2:i:]7c\\x0b[/*Hc<\\x03!zR\\x7f,(~.\\x95\\xc7\\x96\\xc7\\x98\\xcc\\x85\\xd5\\x9d\\xcc\\x80\\xb9\\xed\\xbd\\xeb\\xba\\xed\\xba\\xed\\xbb\\xed\\xbb\\xec\\xbb\\xed\\xb8\\xee\\xb8\\xed\\xb8\\xe8\\xae~;\\x9f\\xc8\\x8d\\xcd\\x92\\xd6\\xa2\\x19\\x08o\\t_\\nR6\\x15\\x939%V/v:y!lE:k=\\x9b\\xd5\\x8e\\xdd\\x8d\\xdf\\x8d\\xd9\\x84\\xd9\\xb7\\xb8\\xec\\xba\\xec\\xbd\\xec\\xb8\\xec\\xb8\\xed\\xb8\\xec\\xbb\\xef\\xb8\\xee\\xb8\\xee\\xbb\\xeb\\xbd\\xd56k\\xca\\xa4\\xfbb4\\x9cm?_\\x08[\\x06s`\\xd9\\x92\\x00\\x07^!i:s \\x00I<\\x8c\\xce\\x85\\xd3\\xb3\\xef\\xb8\\xeb\\xb4\\xda\\x89\\xe6\\x8d\\xb9\\xed\\xbb\\xec\\xbb\\xed\\xbb\\xec\\xbb\\xee\\xba\\xee\\xb8\\xee\\xb8\\xee\\xb9\\xee\\xbb\\xed\\xbe\\xe72\\x93\\xf3\\xc7\\xf2x\\xcbWS7_\\x0fP)\\xd0\\xbb\\xc2PV\\np#vRz2\\t\\x93\\xca\\x8a\\xe8\\x85\\xcc\\xb7\\xe8\\xb8\\xec\\xb6\\xdb\\xb2\\xf0\\x95\\xb9\\xee\\xbb\\xeb\\xbb\\xec\\xbd\\xec\\xbb\\xee\\xb8\\xed\\xbb\\xed\\xb9\\xef\\xb8\\xef\\xb8\\xe8\\xb8\\xb1m3\\x17\\xdb0P\\x05\\x04Y\\nU\\x03\\x13\\x8b\\xf5\\x98\\x01\\nf\"}U\\x04+a\\x00+\\xa6\\xd0\\x9e\\xee\\x80\\xc8\\x88\\xe5\\xbd\\xf1\\x8e\\xd5\\x8d\\xcco\\xb8\\xee\\xbb\\xec\\xba\\xec\\xbb\\xed\\xbb\\xed\\xba\\xed\\xbb\\xed\\xb8\\xef\\xb9\\xee\\xbe\\xcd\\x96\\x98K\\x10MIy\\x0eH\\n^\\x06Xw\\xe0\\xa4\\xdeQ[8}\\'{!f7\\\\W\\xd6\\xad\\xcf\\x94\\xef\\xbb\\xd1\\x8a\\xe0\\xbd\\xf5\\x8d?d\\x13{\\xbd\\xec\\xba\\xec\\xb8\\xed\\xbd\\xec\\xbb\\xed\\xba\\xeb\\xbb\\xee\\xb9\\xe0\\xb6\\xe8\\xb3\\xd4\\xa3Bj2f5[4`\\tR7/\\xb0\\xe5\\xbb \\x1ac(\\n,b5e\\th\\x7f\\xe9\\xa2\\xdd\\x9b\\xdc\\xa1\\xe9\\x8f\\xe2\\xb1\\xf9\\xb1\\xc5[ew\\xb8\\xed\\xbb\\xec\\xbb\\xed\\xba\\xed\\xb8\\xed\\xbb\\xec\\xbb\\xef\\xb9\\xef\\xb8\\xec\\x81\\xfb\\xee4%7_4g5^\\x0bnl\\xe8\\xb7\\xe8`N\\x0etG\\x118]2g#\\x0b\\x93\\xf0\\xb8\\xd8\\x9b\\xd0\\xbd\\xf7\\xb4\\xe9\\xb4\\xf1\\xaf\\xf9\\xa5\\xc4H'"
      ]
     },
     "execution_count": 86,
     "metadata": {},
     "output_type": "execute_result"
    }
   ],
   "source": [
    "re_strs = base64.standard_b64decode(strs)\n",
    "re_strs"
   ]
  },
  {
   "cell_type": "code",
   "execution_count": 87,
   "metadata": {},
   "outputs": [],
   "source": [
    "import numpy as np\n",
    "import os\n",
    "import io"
   ]
  },
  {
   "cell_type": "code",
   "execution_count": null,
   "metadata": {
    "scrolled": true
   },
   "outputs": [],
   "source": []
  },
  {
   "cell_type": "code",
   "execution_count": 89,
   "metadata": {},
   "outputs": [],
   "source": [
    "image = Image.frombytes('L',(64,64),re_strs)"
   ]
  },
  {
   "cell_type": "code",
   "execution_count": 90,
   "metadata": {},
   "outputs": [],
   "source": [
    "image.show()"
   ]
  },
  {
   "cell_type": "code",
   "execution_count": 101,
   "metadata": {},
   "outputs": [],
   "source": [
    "restrs_basket = base64.standard_b64decode(strs_baskt)"
   ]
  },
  {
   "cell_type": "code",
   "execution_count": 102,
   "metadata": {},
   "outputs": [],
   "source": [
    "F_image_basket = Image.frombytes('L',(1000, 600),restrs_basket)"
   ]
  },
  {
   "cell_type": "code",
   "execution_count": 103,
   "metadata": {},
   "outputs": [],
   "source": [
    "F_image_basket.show()"
   ]
  },
  {
   "cell_type": "code",
   "execution_count": 119,
   "metadata": {},
   "outputs": [
    {
     "name": "stdout",
     "output_type": "stream",
     "text": [
      "    0   1   2   3   4   5   6   7   8   9   10  11  12  13  14  15  16  17  \\\n",
      "0    0   0   1   1   0   1   0   1   0   0   0   1   0   1   0   0   0   1   \n",
      "1    0   0   0   1   0   0   0   0   0   1   0   1   0   0   0   0   0   1   \n",
      "2    0   1   0   1   0   0   0   1   0   0   0   0   0   1   0   0   0   0   \n",
      "3    0   1   0   0   0   0   0   1   0   0   0   1   0   1   0   0   0   0   \n",
      "4    0   0   0   1   0   0   0   0   0   1   0   0   0   0   0   0   0   1   \n",
      "5    0   1   0   1   0   0   0   1   0   1   0   0   0   1   0   0   0   0   \n",
      "6    0   0   0   0   0   0   0   1   0   0   0   1   0   0   0   0   0   1   \n",
      "7    0   0   0   0   0   0   0   0   0   1   0   1   0   0   0   0   0   1   \n",
      "8    0   0   0   1   0   0   0   1   0   0   0   0   0   1   0   0   0   0   \n",
      "9    0   1   0   0   0   0   0   0   0   0   0   1   0   1   0   0   0   1   \n",
      "10   0   0   0   0   0   0   0   0   0   0   0   1   0   0   0   0   0   0   \n",
      "11   0   0   0   1   0   0   0   1   0   1   0   0   0   1   0   0   0   0   \n",
      "12   0   1   0   0   0   0   0   0   0   0   0   1   0   0   0   0   0   1   \n",
      "13   0   0   0   1   0   0   0   0   0   1   0   1   0   0   0   0   0   1   \n",
      "14   0   1   0   1   0   0   0   0   0   0   0   0   0   1   0   0   0   0   \n",
      "15   0   0   0   0   0   0   0   1   0   0   0   1   0   1   0   0   0   1   \n",
      "16   0   0   0   0   0   0   0   0   0   0   0   1   0   0   0   0   0   1   \n",
      "17   0   0   0   0   0   0   0   1   0   1   0   0   0   1   0   0   0   0   \n",
      "18   0   0   0   0   0   0   0   1   0   0   0   0   0   1   0   0   0   0   \n",
      "19   0   0   0   1   0   0   0   0   0   1   0   0   0   0   0   0   0   1   \n",
      "20   0   1   0   0   0   0   0   0   0   1   0   0   0   0   0   0   0   0   \n",
      "21   0   1   0   0   0   0   0   0   0   0   0   1   0   1   0   0   0   0   \n",
      "22   0   0   0   1   0   0   0   0   0   1   0   0   0   0   0   0   0   1   \n",
      "23   0   1   0   1   0   0   0   1   0   0   0   0   0   0   0   0   0   0   \n",
      "24   0   0   0   0   0   0   0   1   0   0   0   1   0   0   0   0   0   0   \n",
      "25   0   0   0   1   0   0   0   0   0   1   0   0   0   0   0   0   0   0   \n",
      "26   0   1   0   1   0   0   0   0   0   0   0   0   0   0   0   0   0   0   \n",
      "27   0   1   0   0   0   0   0   1   0   0   0   0   0   0   0   0   0   1   \n",
      "28   0   0   0   1   0   0   0   0   0   1   0   1   0   0   0   0   0   1   \n",
      "29   0   0   0   0   0   0   0   1   0   0   0   0   0   1   0   0   0   0   \n",
      "30   0   1   0   0   0   0   0   1   0   0   0   0   0   1   0   0   0   1   \n",
      "31   0   0   0   0   0   0   0   0   0   0   0   1   0   0   0   0   0   0   \n",
      "32   0   1   0   1   0   0   0   1   0   0   0   0   0   1   0   0   0   0   \n",
      "33   0   1   0   0   0   0   0   0   0   0   0   0   0   1   0   0   0   1   \n",
      "34   0   0   0   1   0   0   0   0   0   0   0   1   0   0   0   0   0   0   \n",
      "35   0   1   0   0   0   0   0   0   0   1   0   0   0   0   0   0   0   0   \n",
      "36   0   0   0   0   0   0   0   1   0   0   0   0   0   1   0   0   0   0   \n",
      "37   0   0   0   1   0   0   0   0   0   0   0   1   0   0   0   0   0   1   \n",
      "38   0   1   0   0   0   0   0   0   0   1   0   0   0   1   0   0   0   0   \n",
      "39   0   0   0   0   0   0   0   1   0   0   0   0   0   0   0   0   0   1   \n",
      "40   0   0   0   0   0   0   0   0   0   1   0   1   0   0   0   0   0   0   \n",
      "41   0   1   0   1   0   0   0   1   0   1   0   0   0   0   0   0   0   0   \n",
      "42   0   0   0   0   0   0   0   0   0   0   0   0   0   1   0   0   0   1   \n",
      "43   0   0   0   1   0   0   0   0   0   0   0   0   0   0   0   0   0   1   \n",
      "44   0   1   0   1   0   0   0   1   0   0   0   0   0   0   0   0   0   0   \n",
      "45   0   0   0   0   0   0   0   1   0   0   0   1   0   0   0   0   0   0   \n",
      "46   0   0   0   0   0   0   0   0   0   1   0   0   0   0   0   0   0   1   \n",
      "47   0   1   0   0   0   0   0   1   0   0   0   0   0   1   0   0   0   0   \n",
      "48   0   0   0   0   0   0   0   1   0   0   0   1   0   0   0   0   0   1   \n",
      "49   0   0   0   1   0   0   0   0   0   0   0   1   0   0   0   0   0   1   \n",
      "\n",
      "    18  19  \n",
      "0    0   1  \n",
      "1    0   0  \n",
      "2    0   1  \n",
      "3    0   1  \n",
      "4    0   0  \n",
      "5    0   0  \n",
      "6    0   1  \n",
      "7    0   0  \n",
      "8    0   1  \n",
      "9    0   1  \n",
      "10   0   0  \n",
      "11   0   1  \n",
      "12   0   0  \n",
      "13   0   0  \n",
      "14   0   0  \n",
      "15   0   0  \n",
      "16   0   0  \n",
      "17   0   1  \n",
      "18   0   1  \n",
      "19   0   0  \n",
      "20   0   1  \n",
      "21   0   1  \n",
      "22   0   0  \n",
      "23   0   1  \n",
      "24   0   1  \n",
      "25   0   0  \n",
      "26   0   0  \n",
      "27   0   0  \n",
      "28   0   0  \n",
      "29   0   1  \n",
      "30   0   1  \n",
      "31   0   0  \n",
      "32   0   1  \n",
      "33   0   0  \n",
      "34   0   0  \n",
      "35   0   1  \n",
      "36   0   1  \n",
      "37   0   0  \n",
      "38   0   0  \n",
      "39   0   0  \n",
      "40   0   0  \n",
      "41   0   1  \n",
      "42   0   1  \n",
      "43   0   0  \n",
      "44   0   0  \n",
      "45   0   1  \n",
      "46   0   0  \n",
      "47   0   0  \n",
      "48   0   0  \n",
      "49   0   0  \n",
      "168\n"
     ]
    }
   ],
   "source": [
    "import math\n",
    "import pandas as pd\n",
    " \n",
    "\n",
    "def sieve(size):\n",
    "\n",
    "    sieve = [True] * size\n",
    "\n",
    "    sieve[0] = False\n",
    "\n",
    "    sieve[1] = False\n",
    "\n",
    "    for i in range(2, int(math.sqrt(size)) + 1):\n",
    "\n",
    "        k = i * 2\n",
    "\n",
    "        while k < size:\n",
    "\n",
    "            sieve[k] = False\n",
    "\n",
    "            k += i\n",
    "\n",
    "    for i,v in enumerate(sieve):\n",
    "        if v:\n",
    "            sieve[i]=1\n",
    "        else:\n",
    "            sieve[i]=0\n",
    "            \n",
    "    print(pd.DataFrame(np.array(sieve).reshape(50,20)))\n",
    "\n",
    "    return sum(1 for x in sieve if x)\n",
    "\n",
    " \n",
    "\n",
    "print(sieve(1000))\n",
    "\n",
    "\n"
   ]
  },
  {
   "cell_type": "code",
   "execution_count": null,
   "metadata": {},
   "outputs": [],
   "source": []
  }
 ],
 "metadata": {
  "kernelspec": {
   "display_name": "Python 3",
   "language": "python",
   "name": "python3"
  },
  "language_info": {
   "codemirror_mode": {
    "name": "ipython",
    "version": 3
   },
   "file_extension": ".py",
   "mimetype": "text/x-python",
   "name": "python",
   "nbconvert_exporter": "python",
   "pygments_lexer": "ipython3",
   "version": "3.5.2"
  }
 },
 "nbformat": 4,
 "nbformat_minor": 2
}
